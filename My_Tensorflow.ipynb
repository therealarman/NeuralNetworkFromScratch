{
  "nbformat": 4,
  "nbformat_minor": 0,
  "metadata": {
    "colab": {
      "provenance": []
    },
    "kernelspec": {
      "name": "python3",
      "display_name": "Python 3"
    },
    "language_info": {
      "name": "python"
    }
  },
  "cells": [
    {
      "cell_type": "code",
      "execution_count": 1,
      "metadata": {
        "id": "USEMGsH_U1FN"
      },
      "outputs": [],
      "source": [
        "import numpy as np\n",
        "import matplotlib.pyplot as plt\n",
        "from matplotlib.colors import ListedColormap\n",
        "import math\n",
        "\n",
        "from keras.datasets import mnist"
      ]
    },
    {
      "cell_type": "code",
      "source": [
        "class Layer(object):\n",
        "  def __init__(self, input_dims: int=0, units: int=0, activation: str=''):\n",
        "    self.input_dims = input_dims\n",
        "    self.units = units\n",
        "    self.activation = activation\n",
        "\n",
        "    self.weights = 2 * np.random.random((units, input_dims)) - 1\n",
        "\n",
        "  def forward(self, input):\n",
        "    self.input = input\n",
        "    self.output = self.activation_function(self.weights @ input)\n",
        "    return self.output\n",
        "\n",
        "  def bias(self, input):\n",
        "    return np.vstack((input, np.ones((1, input.shape[1]))))\n",
        "\n",
        "  def activation_function(self, input):\n",
        "    if self.activation == 'tanh':\n",
        "      return self.bias(np.tanh(input))\n",
        "\n",
        "    elif self.activation == 'reLu':\n",
        "      return self.bias(input * (input > 0))\n",
        "\n",
        "    elif self.activation == 'softmax':\n",
        "\n",
        "      _input = input.transpose()\n",
        "      output = np.zeros((_input.shape[0], _input.shape[1]))\n",
        "\n",
        "      for i in range(len(_input)):\n",
        "        for j in range(len(_input[i])):\n",
        "          output[i][j] = np.exp(_input[i][j]) / np.exp(_input[i]).sum()\n",
        "      return output\n",
        "\n",
        "    else:\n",
        "      return input\n",
        "\n",
        "\n",
        "  def calculate_hidden_gradient(self, layer):\n",
        "    _gradient = layer.gradient\n",
        "    _weights = layer.weights.transpose()\n",
        "    self.gradient = np.zeros_like(self.output.transpose())\n",
        "\n",
        "    for i in range(self.gradient.shape[0]):\n",
        "      for j in range(self.gradient.shape[1]):\n",
        "        if self.activation == 'tanh':\n",
        "          self.gradient[i][j] = (_weights[j] * _gradient[i]).sum() * (1-np.tanh(self.output[j][i])**2)\n",
        "        elif self.activation == 'reLu':\n",
        "          self.gradient[i][j] = (_weights[j] * _gradient[i]).sum() * (1 if self.output[j][i] > 0 else 0)\n",
        "\n",
        "  def calculate_output_gradient(self, labels):\n",
        "    self.gradient = np.zeros_like(self.output)\n",
        "\n",
        "    for i in range(self.output.shape[0]):\n",
        "      for j in range(self.output.shape[1]):\n",
        "        self.gradient[i][j] = (self.output[i][j] - 1) if j == labels[i] else self.output[i][j]\n",
        "\n",
        "  def update_weights(self, lr):\n",
        "    for k in range(self.input.shape[1]):\n",
        "      weights_T = np.zeros_like(self.weights)\n",
        "\n",
        "      for i in range(self.weights.shape[0]):\n",
        "        for j in range(self.weights.shape[1]):\n",
        "          weights_T[i][j] = lr * self.gradient[k][i] * self.input[j][k]\n",
        "      self.weights -= weights_T"
      ],
      "metadata": {
        "id": "H6Cybo8aU2of"
      },
      "execution_count": 102,
      "outputs": []
    },
    {
      "cell_type": "code",
      "source": [
        "class NeuralNetwork(object):\n",
        "  def __init__(self):\n",
        "    self.layers = []\n",
        "    self.costs = []\n",
        "\n",
        "  def add(self, input_dims: int=0, units: int=0, activation: str=''):\n",
        "    layer = Layer(input_dims = input_dims+1 if len(self.layers) == 0 else self.layers[-1].units+1, units=units, activation=activation)\n",
        "    self.layers.append(layer)\n",
        "\n",
        "  def summary(self):\n",
        "    for i, layer in enumerate(self.layers):\n",
        "      print(f\"Layer {i} --> Input: {layer.input_dims}, Units: {layer.units}, Activation: {layer.activation}\")\n",
        "\n",
        "  def CE_error(self, sm, l):\n",
        "    out = 0\n",
        "    for i in range(len(sm)):\n",
        "      out -= l[i] * math.log(sm[i][l[i]])\n",
        "    return out/sm.shape[0]\n",
        "\n",
        "  def train(self, input, labels, epochs, lr):\n",
        "    input = input.transpose()\n",
        "    input = np.vstack((input, np.ones((1, input.shape[1]))))\n",
        "\n",
        "    for i in range(epochs):\n",
        "      for j in range(len(self.layers)):\n",
        "        if j == 0:\n",
        "          self.layers[j].forward(input)\n",
        "        else:\n",
        "          self.layers[j].forward(self.layers[j-1].output)\n",
        "\n",
        "      cost = self.CE_error(self.layers[-1].output, labels)\n",
        "      print(f\"Epoch: {i} Cost: {cost}\")\n",
        "      self.costs.append(cost)\n",
        "\n",
        "      self.layers[-1].calculate_output_gradient(labels)\n",
        "\n",
        "      for i in reversed(range(len(self.layers)-1)):\n",
        "        self.layers[i].calculate_hidden_gradient(self.layers[i+1])\n",
        "\n",
        "      for i in range(len(self.layers)):\n",
        "        self.layers[i].update_weights(lr)\n",
        "\n",
        "    print(self.costs[-1])\n",
        "\n",
        "  def plot_cost(self):\n",
        "    x = np.arange(len(self.costs), dtype=int)\n",
        "    y = self.costs\n",
        "\n",
        "    plt.plot(x, y)\n",
        "    plt.show()\n",
        "\n",
        "  def predict(self, input):\n",
        "    input = input.transpose()\n",
        "    input = np.vstack((input, np.ones((1, input.shape[1]))))\n",
        "\n",
        "    for layer in self.layers:\n",
        "      input = layer.forward(input)\n",
        "    return np.argmax(input)"
      ],
      "metadata": {
        "id": "DOmnvv42vJUs"
      },
      "execution_count": 103,
      "outputs": []
    },
    {
      "cell_type": "code",
      "source": [
        "inputs = np.array([[0.2, 0.2],\n",
        "                   [0.4, 0],\n",
        "                   [0, 0.4],\n",
        "                   [0.8, 0.8],\n",
        "                   [1, 0.6],\n",
        "                   [0.6, 1]])\n",
        "\n",
        "labels = np.array([1,2,0,1,2,0])"
      ],
      "metadata": {
        "id": "M_2vMVz8FPSn"
      },
      "execution_count": 104,
      "outputs": []
    },
    {
      "cell_type": "code",
      "source": [
        "NN = NeuralNetwork()\n",
        "\n",
        "NN.add(input_dims=2, units=3, activation='tanh')\n",
        "NN.add(units=3, activation='softmax')\n",
        "NN.summary()\n",
        "\n",
        "NN.train(inputs, labels, 100, lr=0.1)"
      ],
      "metadata": {
        "colab": {
          "base_uri": "https://localhost:8080/"
        },
        "id": "1HHVGglCFrbe",
        "outputId": "4c240226-5d01-4c2b-b8f1-c410cec02ab3"
      },
      "execution_count": 112,
      "outputs": [
        {
          "output_type": "stream",
          "name": "stdout",
          "text": [
            "Layer 0 --> Input: 3, Units: 3, Activation: tanh\n",
            "Layer 1 --> Input: 4, Units: 3, Activation: softmax\n",
            "Epoch: 0 Cost: 0.9449975361185338\n",
            "Epoch: 1 Cost: 0.9347002218704752\n",
            "Epoch: 2 Cost: 0.9214982475426096\n",
            "Epoch: 3 Cost: 0.9055628363753798\n",
            "Epoch: 4 Cost: 0.8872478064670846\n",
            "Epoch: 5 Cost: 0.8670425139105542\n",
            "Epoch: 6 Cost: 0.8454638344046512\n",
            "Epoch: 7 Cost: 0.8229861669988269\n",
            "Epoch: 8 Cost: 0.8000140013166884\n",
            "Epoch: 9 Cost: 0.7768797627216255\n",
            "Epoch: 10 Cost: 0.7538515821039228\n",
            "Epoch: 11 Cost: 0.7311425062858626\n",
            "Epoch: 12 Cost: 0.7089182262600535\n",
            "Epoch: 13 Cost: 0.6873032539260241\n",
            "Epoch: 14 Cost: 0.6663862596239568\n",
            "Epoch: 15 Cost: 0.6462251109114173\n",
            "Epoch: 16 Cost: 0.626851796414822\n",
            "Epoch: 17 Cost: 0.6082771792267362\n",
            "Epoch: 18 Cost: 0.5904954369474985\n",
            "Epoch: 19 Cost: 0.5734880566482937\n",
            "Epoch: 20 Cost: 0.5572273051198091\n",
            "Epoch: 21 Cost: 0.541679150568303\n",
            "Epoch: 22 Cost: 0.526805654711569\n",
            "Epoch: 23 Cost: 0.5125668805942147\n",
            "Epoch: 24 Cost: 0.4989223741961162\n",
            "Epoch: 25 Cost: 0.4858322814504672\n",
            "Epoch: 26 Cost: 0.4732581604078973\n",
            "Epoch: 27 Cost: 0.461163543569648\n",
            "Epoch: 28 Cost: 0.4495142994185848\n",
            "Epoch: 29 Cost: 0.4382788357747252\n",
            "Epoch: 30 Cost: 0.4274281812798492\n",
            "Epoch: 31 Cost: 0.41693597535522614\n",
            "Epoch: 32 Cost: 0.4067783915424572\n",
            "Epoch: 33 Cost: 0.3969340143186105\n",
            "Epoch: 34 Cost: 0.3873836853060661\n",
            "Epoch: 35 Cost: 0.37811033126546967\n",
            "Epoch: 36 Cost: 0.36909878332763163\n",
            "Epoch: 37 Cost: 0.3603355945288194\n",
            "Epoch: 38 Cost: 0.35180886079582036\n",
            "Epoch: 39 Cost: 0.34350804901215803\n",
            "Epoch: 40 Cost: 0.3354238346174964\n",
            "Epoch: 41 Cost: 0.32754795028688427\n",
            "Epoch: 42 Cost: 0.3198730465511301\n",
            "Epoch: 43 Cost: 0.31239256470809423\n",
            "Epoch: 44 Cost: 0.30510062199901034\n",
            "Epoch: 45 Cost: 0.29799190875304615\n",
            "Epoch: 46 Cost: 0.29106159701259693\n",
            "Epoch: 47 Cost: 0.28430526002197315\n",
            "Epoch: 48 Cost: 0.2777188018783596\n",
            "Epoch: 49 Cost: 0.27129839659484456\n",
            "Epoch: 50 Cost: 0.26504043580242514\n",
            "Epoch: 51 Cost: 0.2589414843147339\n",
            "Epoch: 52 Cost: 0.2529982427910118\n",
            "Epoch: 53 Cost: 0.24720751675583788\n",
            "Epoch: 54 Cost: 0.24156619126556764\n",
            "Epoch: 55 Cost: 0.23607121054903724\n",
            "Epoch: 56 Cost: 0.23071956199210988\n",
            "Epoch: 57 Cost: 0.22550826388058462\n",
            "Epoch: 58 Cost: 0.22043435636260933\n",
            "Epoch: 59 Cost: 0.21549489513900263\n",
            "Epoch: 60 Cost: 0.2106869474368832\n",
            "Epoch: 61 Cost: 0.2060075898680066\n",
            "Epoch: 62 Cost: 0.2014539078175662\n",
            "Epoch: 63 Cost: 0.19702299605146947\n",
            "Epoch: 64 Cost: 0.19271196026984402\n",
            "Epoch: 65 Cost: 0.18851791937151455\n",
            "Epoch: 66 Cost: 0.18443800822822443\n",
            "Epoch: 67 Cost: 0.18046938079839972\n",
            "Epoch: 68 Cost: 0.17660921343823152\n",
            "Epoch: 69 Cost: 0.17285470829286045\n",
            "Epoch: 70 Cost: 0.16920309667258068\n",
            "Epoch: 71 Cost: 0.16565164233838856\n",
            "Epoch: 72 Cost: 0.16219764463805753\n",
            "Epoch: 73 Cost: 0.15883844144842085\n",
            "Epoch: 74 Cost: 0.15557141189188875\n",
            "Epoch: 75 Cost: 0.15239397880562425\n",
            "Epoch: 76 Cost: 0.14930361095046685\n",
            "Epoch: 77 Cost: 0.14629782495380408\n",
            "Epoch: 78 Cost: 0.1433741869863611\n",
            "Epoch: 79 Cost: 0.14053031417746506\n",
            "Epoch: 80 Cost: 0.1377638757769203\n",
            "Epoch: 81 Cost: 0.13507259407433353\n",
            "Epoch: 82 Cost: 0.13245424508871506\n",
            "Epoch: 83 Cost: 0.1299066590425434\n",
            "Epoch: 84 Cost: 0.127427720635339\n",
            "Epoch: 85 Cost: 0.1250153691322375\n",
            "Epoch: 86 Cost: 0.1226675982831567\n",
            "Epoch: 87 Cost: 0.12038245608799496\n",
            "Epoch: 88 Cost: 0.11815804442292582\n",
            "Epoch: 89 Cost: 0.1159925185423299\n",
            "Epoch: 90 Cost: 0.11388408647025831\n",
            "Epoch: 91 Cost: 0.11183100829459586\n",
            "Epoch: 92 Cost: 0.1098315953763136\n",
            "Epoch: 93 Cost: 0.10788420948538606\n",
            "Epoch: 94 Cost: 0.10598726187413128\n",
            "Epoch: 95 Cost: 0.10413921229790861\n",
            "Epoch: 96 Cost: 0.10233856799230666\n",
            "Epoch: 97 Cost: 0.10058388261517785\n",
            "Epoch: 98 Cost: 0.09887375516111878\n",
            "Epoch: 99 Cost: 0.09720682885529264\n",
            "0.09720682885529264\n"
          ]
        }
      ]
    },
    {
      "cell_type": "code",
      "source": [
        "NN.plot_cost()"
      ],
      "metadata": {
        "colab": {
          "base_uri": "https://localhost:8080/",
          "height": 430
        },
        "id": "lrk1hHr58xvh",
        "outputId": "3666d3d1-7144-41f1-d335-d6a9030a31bf"
      },
      "execution_count": 113,
      "outputs": [
        {
          "output_type": "display_data",
          "data": {
            "text/plain": [
              "<Figure size 640x480 with 1 Axes>"
            ],
            "image/png": "[encoded data removed]"
          },
          "metadata": {}
        }
      ]
    },
    {
      "cell_type": "code",
      "source": [
        "h=0.02\n",
        "xx, yy = np.meshgrid(np.arange(0, 1.02, h),\n",
        "                     np.arange(0, 1.02, h))\n",
        "\n",
        "X_new = np.c_[xx.ravel(), yy.ravel()]\n",
        "y_pred = np.array([])\n",
        "\n",
        "for i in range(X_new.shape[0]):\n",
        "  y_pred = np.append(y_pred, NN.predict(np.array([X_new[i]])))\n",
        "\n",
        "zz = y_pred.reshape(xx.shape)\n",
        "\n",
        "custom_cmap = ListedColormap(['#ff4f4f','#4fa4ff','#8aed82'])\n",
        "plt.contourf(xx, yy, zz, cmap=custom_cmap)\n",
        "\n",
        "plt.plot(inputs[labels[:]==0,0], inputs[labels[:]==0,1], 'ro')\n",
        "plt.plot(inputs[labels[:]==1,0], inputs[labels[:]==1,1], 'bo')\n",
        "plt.plot(inputs[labels[:]==2,0], inputs[labels[:]==2,1], 'go')\n",
        "\n",
        "plt.xlim(-0.05, 1.05)\n",
        "plt.ylim(-0.05, 1.05)\n",
        "\n",
        "\n",
        "plt.show()"
      ],
      "metadata": {
        "colab": {
          "base_uri": "https://localhost:8080/",
          "height": 430
        },
        "id": "vzLem7faCYNY",
        "outputId": "635cd308-ce07-40d8-be81-34b54aba4ef2"
      },
      "execution_count": 114,
      "outputs": [
        {
          "output_type": "display_data",
          "data": {
            "text/plain": [
              "<Figure size 640x480 with 1 Axes>"
            ],
            "image/png": "[encoded data removed]"
          },
          "metadata": {}
        }
      ]
    },
    {
      "cell_type": "code",
      "source": [],
      "metadata": {
        "id": "BESKz34jDspL"
      },
      "execution_count": null,
      "outputs": []
    }
  ]
}